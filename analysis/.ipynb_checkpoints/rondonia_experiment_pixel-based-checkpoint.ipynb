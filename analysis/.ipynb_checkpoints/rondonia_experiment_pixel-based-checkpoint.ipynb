{
 "cells": [
  {
   "cell_type": "code",
   "execution_count": 4,
   "id": "42d98bbb-eb8f-4603-aae2-3d78f260cc1b",
   "metadata": {},
   "outputs": [
    {
     "ename": "ERROR",
     "evalue": "Error in library(sits): there is no package called ‘sits’\n",
     "output_type": "error",
     "traceback": [
      "Error in library(sits): there is no package called ‘sits’\nTraceback:\n",
      "1. stop(packageNotFoundError(package, lib.loc, sys.call()))"
     ]
    }
   ],
   "source": [
    "library(sits)\n",
    "set.seed(123)"
   ]
  },
  {
   "cell_type": "markdown",
   "id": "601ffafd-62cd-499a-8934-71b19be8aae0",
   "metadata": {},
   "source": [
    "### Create cube"
   ]
  },
  {
   "cell_type": "code",
   "execution_count": null,
   "id": "dd4b6bb9-819b-41c7-a578-1a1152e3005a",
   "metadata": {},
   "outputs": [],
   "source": [
    "#\n",
    "# General definitions\n",
    "#\n",
    "\n",
    "# Dates\n",
    "start_date <- \"2022\"\n",
    "\n",
    "# Cube directory\n",
    "cube_dir <- \"data/output/cube/\"\n",
    "\n",
    "# Bands\n",
    "cube_bands <- c(\n",
    "  \"BLUE\", \"EVI\", \"GREEN\", \"NDVI\", \"NIR08\", \"RED\", \"SWIR16\", \"SWIR22\", \"CLOUD\"\n",
    ")\n",
    "\n",
    "# Hardware - multicores\n",
    "multicores <- 24\n",
    "\n",
    "#\n",
    "# 1. Create cube directory\n",
    "#\n",
    "dir.create(cube_dir, recursive = TRUE)\n",
    "\n",
    "#\n",
    "# 2. Read ROI\n",
    "#\n",
    "tile <- \"006008\"\n",
    "\n",
    "#\n",
    "# 3. Generate cubes\n",
    "#\n",
    "# define dates\n",
    "start_date <- paste0(y, \"-01-01\")\n",
    "end_date <- paste0(y, \"-12-31\")\n",
    "\n",
    "# load cube\n",
    "cube <- sits_cube(\n",
    "source     = \"BDC\",\n",
    "collection = \"LANDSAT-OLI-16D\",\n",
    "tiles      = tile,\n",
    "start_date = start_date,\n",
    "end_date   = end_date,\n",
    "bands      = cube_bands\n",
    ")\n",
    "\n",
    "# define cube directory\n",
    "cube_dir_year <- paste0(cube_dir, y)\n",
    "\n",
    "# create cube directory\n",
    "dir.create(cube_dir_year, recursive = TRUE)\n",
    "\n",
    "# regularize cube\n",
    "reg_cube <- sits_regularize(\n",
    "cube       = cube,\n",
    "period     = \"P1M\",\n",
    "res        = 30,\n",
    "tiles      = cube$tile,\n",
    "multicores = multicores,\n",
    "output_dir = cube_dir_year\n",
    ")"
   ]
  },
  {
   "cell_type": "markdown",
   "id": "1e09a1a3-c9c0-447e-9d25-dc118c1bd82e",
   "metadata": {},
   "source": [
    "### Reading Samples"
   ]
  },
  {
   "cell_type": "code",
   "execution_count": null,
   "id": "3cb77027-e368-4df9-8ba0-b5981eb84ca4",
   "metadata": {},
   "outputs": [],
   "source": [
    "set.seed(123)\n",
    "library(sits)\n",
    "\n",
    "#\n",
    "# General definition\n",
    "#\n",
    "\n",
    "# Samples\n",
    "samples_file <- \"data/raw/samples/samples.rds\"\n",
    "\n",
    "# Output directory\n",
    "base_output_dir <- \"data/output/\"\n",
    "\n",
    "#\n",
    "# 1. Load samples\n",
    "#\n",
    "samples <- readRDS(samples_file)"
   ]
  },
  {
   "cell_type": "code",
   "execution_count": null,
   "id": "ac7aa217-9204-424f-a267-0756c9d7549b",
   "metadata": {},
   "outputs": [],
   "source": [
    "plot(sits_patterns(samples))"
   ]
  },
  {
   "cell_type": "markdown",
   "id": "3b5d8c86-9756-48c5-af0f-3efdbcb7c7ee",
   "metadata": {},
   "source": [
    "### Tunning CNN"
   ]
  },
  {
   "cell_type": "code",
   "execution_count": null,
   "id": "b049c32e-a8fe-467b-bd69-2810a3472948",
   "metadata": {},
   "outputs": [],
   "source": [
    "#\n",
    "# 2. Train model\n",
    "#\n",
    "tuned_tempcnn <- sits_tuning(\n",
    "  samples   = samples,\n",
    "  ml_method = sits_tempcnn(),\n",
    "  params        = sits_tuning_hparams(\n",
    "    optimizer   = torch::optim_adamw,\n",
    "    cnn_kernels = choice(c(3, 3, 3), c(5, 5, 5), c(7, 7, 7)),\n",
    "    cnn_layers  = choice(c(2^5, 2^5, 2^5), c(2^6, 2^6, 2^6), c(2^7, 2^7, 2^7)),\n",
    "    opt_hparams = list(\n",
    "      lr           = loguniform(10^-2, 10^-4),\n",
    "      weight_decay = loguniform(10^-2, 10^-8)\n",
    "    )\n",
    "  ),\n",
    "  trials     = 20,\n",
    "  multicores = 6,\n",
    "  progress   = TRUE\n",
    ")"
   ]
  },
  {
   "cell_type": "code",
   "execution_count": null,
   "id": "26eaea03-e8f7-44e1-af76-546d24a4c917",
   "metadata": {},
   "outputs": [],
   "source": [
    "tuned_tempcnn"
   ]
  },
  {
   "cell_type": "markdown",
   "id": "de8016a7-9363-463c-badf-df13021ba199",
   "metadata": {},
   "source": [
    "### Training CNN"
   ]
  },
  {
   "cell_type": "code",
   "execution_count": 1,
   "id": "01ae64cc-47d0-4a41-a4ae-c222c6b597db",
   "metadata": {},
   "outputs": [
    {
     "ename": "ERROR",
     "evalue": "Error in sits_train(samples, sits_tempcnn()): could not find function \"sits_train\"\n",
     "output_type": "error",
     "traceback": [
      "Error in sits_train(samples, sits_tempcnn()): could not find function \"sits_train\"\nTraceback:\n"
     ]
    }
   ],
   "source": [
    "tcnn_model <- sits_train(\n",
    "    samples, sits_tempcnn()\n",
    ")\n",
    "\n",
    "#\n",
    "# 3. Save model\n",
    "#\n",
    "\n",
    "# directory\n",
    "model_dir <- paste0(base_output_dir, \"/model\")  \n",
    "\n",
    "# create directory\n",
    "dir.create(model_dir, recursive = TRUE)\n",
    "\n",
    "# save\n",
    "saveRDS(tcnn_model, paste0(model_dir,\"/model_tcnn_tuned.rds\"))"
   ]
  },
  {
   "cell_type": "markdown",
   "id": "1c39119d-5a13-4039-95ea-5a10d213dae2",
   "metadata": {},
   "source": [
    "### Tuning LightTAE"
   ]
  },
  {
   "cell_type": "code",
   "execution_count": null,
   "id": "7d5abbf8-cea1-4798-ac8a-5e0bb393dac4",
   "metadata": {},
   "outputs": [],
   "source": [
    "tuned_lighttae <- sits_tuning(\n",
    "  samples   = samples,\n",
    "  ml_method = sits_lighttae(),\n",
    "  params        = sits_tuning_hparams(\n",
    "    optimizer   = torch::optim_adamw,\n",
    "    opt_hparams = list(\n",
    "      lr           = loguniform(10^-2, 10^-4),\n",
    "      weight_decay = loguniform(10^-2, 10^-8)\n",
    "    )\n",
    "  ),\n",
    "  trials     = 20,\n",
    "  multicores = 6,\n",
    "  progress   = TRUE\n",
    ")"
   ]
  },
  {
   "cell_type": "markdown",
   "id": "44e9c8b6-ff78-41a9-9b61-771d61036c3f",
   "metadata": {},
   "source": [
    "### Training LightTAE"
   ]
  },
  {
   "cell_type": "code",
   "execution_count": null,
   "id": "cfdcd8a4-395a-4ef6-b896-642bfc1f02bf",
   "metadata": {},
   "outputs": [],
   "source": [
    "lighttae_model <- sits_train(\n",
    "    samples, sits_lighttae()\n",
    ")\n",
    "\n",
    "#\n",
    "# 3. Save model\n",
    "#\n",
    "\n",
    "# directory\n",
    "model_dir <- paste0(base_output_dir, \"/model\")  \n",
    "\n",
    "# create directory\n",
    "dir.create(model_dir, recursive = TRUE)\n",
    "\n",
    "# save\n",
    "saveRDS(lighttae_model, paste0(model_dir,\"/model_lighttae_tuned.rds\"))"
   ]
  },
  {
   "cell_type": "markdown",
   "id": "13238632-f9b3-4623-a62f-b6f2bd916813",
   "metadata": {},
   "source": [
    "### Pixel-based classification - TCNN"
   ]
  },
  {
   "cell_type": "code",
   "execution_count": null,
   "id": "2befc5b9-d117-4f13-a168-1ee12efeb1af",
   "metadata": {},
   "outputs": [],
   "source": [
    "# Output directory\n",
    "output_dir <- \"data/output/classifications/tccn\"\n",
    "\n",
    "# Version\n",
    "results_version <- \"tcnn-8cls-v17-yr-6bands-w7-nf05-s10-clean\"\n",
    "\n",
    "#\n",
    "# 1. Create directory\n",
    "#\n",
    "dir.create(output_dir, recursive = TRUE)\n",
    "\n",
    "\n",
    "#\n",
    "# 4. Classify\n",
    "#\n",
    "cube_dir_year <- paste0(cube_dir, y)\n",
    "start_date <- paste0(y, \"-01-01\")\n",
    "end_date <- paste0(y, \"-12-31\")\n",
    "\n",
    "# classify\n",
    "out_dir <- fs::path(output_dir) / y\n",
    "fs::dir_create(out_dir, recurse = TRUE)\n",
    "\n",
    "probs_cube <- sits_classify(\n",
    "    data       = cube,\n",
    "    ml_model   = tcnn_model,\n",
    "    memsize    = 54,\n",
    "    gpu_memory = 10,\n",
    "    multicores = 24,\n",
    "    output_dir = out_dir,\n",
    "    version    = results_version,\n",
    "    progress   = TRUE,\n",
    "    verbose    = TRUE\n",
    ")\n",
    "\n",
    "# smooth\n",
    "probs_bayes <- sits_smooth(\n",
    "    cube           = probs_cube,\n",
    "    window_size    = 7,\n",
    "    neigh_fraction = 0.5,\n",
    "    smoothness     = c(10, 10, 10, 10, 10, 10, 10, 10, 10),\n",
    "    memsize        = 60,\n",
    "    multicores     = 24,\n",
    "    output_dir     = out_dir,\n",
    "    version        = results_version\n",
    ")\n",
    "\n",
    "# generate map\n",
    "class_cube <- sits_label_classification(\n",
    "    cube       = probs_bayes,\n",
    "    memsize    = 60,\n",
    "    multicores = 24,\n",
    "    output_dir = out_dir,\n",
    "    version    = results_version\n",
    ")\n",
    "\n",
    "# clean map\n",
    "out_clean <- fs::path(out_dir) / \"clean\"\n",
    "fs::dir_create(out_clean, recurse = TRUE)\n",
    "\n",
    "clean_tile <- sits_clean(\n",
    "    cube         = class_cube,\n",
    "    window_size  = 7,\n",
    "    memsize      = 60,\n",
    "    multicores   = 24,\n",
    "    output_dir   = out_clean,\n",
    "    version      = results_version,\n",
    "    progress     = TRUE\n",
    ")"
   ]
  },
  {
   "cell_type": "markdown",
   "id": "f9582ca4-8b7a-4932-bbfb-7210e74c8210",
   "metadata": {},
   "source": [
    "### Pixel-based classification - LightTAE"
   ]
  },
  {
   "cell_type": "code",
   "execution_count": null,
   "id": "59d487be-26ce-4566-be24-61ed501d1cfc",
   "metadata": {},
   "outputs": [],
   "source": [
    "# Output directory\n",
    "output_dir <- \"data/output/classifications/lighttae\"\n",
    "\n",
    "# Version\n",
    "results_version <- \"lighttaeb-8cls-v17-yr-6bands-w7-nf05-s10-clean\"\n",
    "\n",
    "#\n",
    "# 1. Create directory\n",
    "#\n",
    "dir.create(output_dir, recursive = TRUE)\n",
    "\n",
    "\n",
    "#\n",
    "# 4. Classify\n",
    "#\n",
    "cube_dir_year <- paste0(cube_dir, y)\n",
    "start_date <- paste0(y, \"-01-01\")\n",
    "end_date <- paste0(y, \"-12-31\")\n",
    "\n",
    "# classify\n",
    "out_dir <- fs::path(output_dir) / y\n",
    "fs::dir_create(out_dir, recurse = TRUE)\n",
    "\n",
    "probs_cube <- sits_classify(\n",
    "    data       = cube,\n",
    "    ml_model   = lighttae_model,\n",
    "    memsize    = 54,\n",
    "    gpu_memory = 10,\n",
    "    multicores = 24,\n",
    "    output_dir = out_dir,\n",
    "    version    = results_version,\n",
    "    progress   = TRUE,\n",
    "    verbose    = TRUE\n",
    ")\n",
    "\n",
    "# smooth\n",
    "probs_bayes <- sits_smooth(\n",
    "    cube           = probs_cube,\n",
    "    window_size    = 7,\n",
    "    neigh_fraction = 0.5,\n",
    "    smoothness     = c(10, 10, 10, 10, 10, 10, 10, 10, 10),\n",
    "    memsize        = 60,\n",
    "    multicores     = 24,\n",
    "    output_dir     = out_dir,\n",
    "    version        = results_version\n",
    ")\n",
    "\n",
    "# generate map\n",
    "class_cube <- sits_label_classification(\n",
    "    cube       = probs_bayes,\n",
    "    memsize    = 60,\n",
    "    multicores = 24,\n",
    "    output_dir = out_dir,\n",
    "    version    = results_version\n",
    ")\n",
    "\n",
    "# clean map\n",
    "out_clean <- fs::path(out_dir) / \"clean\"\n",
    "fs::dir_create(out_clean, recurse = TRUE)\n",
    "\n",
    "clean_tile <- sits_clean(\n",
    "    cube         = class_cube,\n",
    "    window_size  = 7,\n",
    "    memsize      = 60,\n",
    "    multicores   = 24,\n",
    "    output_dir   = out_clean,\n",
    "    version      = results_version,\n",
    "    progress     = TRUE\n",
    ")"
   ]
  }
 ],
 "metadata": {
  "kernelspec": {
   "display_name": "R",
   "language": "R",
   "name": "ir"
  },
  "language_info": {
   "codemirror_mode": "r",
   "file_extension": ".r",
   "mimetype": "text/x-r-source",
   "name": "R",
   "pygments_lexer": "r",
   "version": "4.3.3"
  }
 },
 "nbformat": 4,
 "nbformat_minor": 5
}
